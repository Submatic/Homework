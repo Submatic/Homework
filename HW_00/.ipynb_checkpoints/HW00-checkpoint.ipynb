{
 "cells": [
  {
   "cell_type": "markdown",
   "metadata": {},
   "source": [
    "# Домашнее задание к лекции \"Основы Python\"\n",
    "\n",
    "## Задание 1\n",
    "Даны 2 переменных, в которых хранятся строки произвольной длины: phrase_1 и phrase_2.\n",
    "Напишите код, который проверяет какая из этих строк длиннее."
   ]
  },
  {
   "cell_type": "code",
   "execution_count": null,
   "metadata": {},
   "outputs": [],
   "source": [
    "phrase_1 = (input(\"Введите первую фразу: \"))\n",
    "phrase_2 = (input(\"Введите вторую фразу: \"))\n",
    "\n",
    "a = len (phrase_1)\n",
    "b = len (phrase_2)\n",
    "\n",
    "if a > b:\n",
    "    print (\"Результат: Фраза 1 длиннее фразы 2\")\n",
    "\n",
    "if a < b:\n",
    "    print (\"Результат: Фраза 2 длиннее фразы 1\")\n",
    "\n",
    "if a == b:\n",
    "    print (\"Результат: Фразы равной длины\");"
   ]
  },
  {
   "cell_type": "markdown",
   "metadata": {},
   "source": [
    "## Задание 2\n",
    "Дана переменная, в которой хранится четырехзначное число (год). Необходимо написать программу, которая выведет, является ли данный год високосным или обычным."
   ]
  },
  {
   "cell_type": "code",
   "execution_count": null,
   "metadata": {},
   "outputs": [],
   "source": [
    "year = int(input(\"Введите год: \"))\n",
    "\n",
    "if year % 400 == 0:\n",
    "    print (\"Високосный год\")\n",
    "\n",
    "elif year % 100 == 0:\n",
    "    print (\"Обычный год\")\n",
    "\n",
    "elif year % 4 == 0:\n",
    "    print (\"Високосный год\")\n",
    "\n",
    "else:\n",
    "    print (\"Обычный год\");"
   ]
  },
  {
   "cell_type": "markdown",
   "metadata": {},
   "source": [
    "## Задание 3\n",
    "Необходимо написать программу, которая будет запрашивать у пользователя месяц и дату рождения и выводить соответствующий знак зодиака."
   ]
  },
  {
   "cell_type": "code",
   "execution_count": null,
   "metadata": {
    "scrolled": true
   },
   "outputs": [],
   "source": [
    "date = int(input(\"Введите день: \"))\n",
    "month = str(input(\"Введите месяц: \"))\n",
    "\n",
    "if (date >= 21 and date <= 31 and month == 'Март') or (date >= 1 and date <= 19 and month == 'Апрель'):\n",
    "    print (\"Знак зодиака: Овен\")\n",
    "\n",
    "elif (date >= 20 and date <= 30 and month == 'Апрель') or (date >= 1 and date <= 20 and month == 'Май'):\n",
    "    print (\"Знак зодиака: Телец\")\n",
    "\n",
    "elif (date >= 21 and date <= 31 and month == 'Май') or (date >=1 and date <= 21 and month == 'Июнь'):\n",
    "    print (\"Знак зодиака: Близнецы\")\n",
    "\n",
    "elif (date >= 22 and date <= 30 and month == 'Июнь') or (date >= 1 and date <= 22 and month == 'Июль'):\n",
    "    print (\"Знак зодиака: Рак\")\n",
    "\n",
    "elif (date >= 23 and date <= 31 and month == 'Июль') or (date >= 1 and date <= 22 and month == 'Август'):\n",
    "    print (\"Знак зодиака: Лев\")\n",
    "\n",
    "elif (date >= 23 and date <= 31 and month == 'Август') or (date >= 1 and date <= 22 and month == 'Сентябрь'):\n",
    "    print (\"Знак зодиака: Дева\")\n",
    "\n",
    "elif (date >= 23 and date <= 30 and month == 'Сентябрь') or (date >= 1 and date <= 23 and month == 'Октябрь'):\n",
    "    print (\"Знак зодиака: Весы\")\n",
    "\n",
    "elif (date >= 24 and date <= 31 and month == 'Октябрь') or (date >= 1 and date <= 22 and month == 'Ноябрь'):\n",
    "    print (\"Знак зодиака: Скорпион\")\n",
    "\n",
    "elif (date >= 23 and date <= 30 and month == 'Ноябрь') or (date >= 1 and date <= 21 and month == 'Декабрь'):\n",
    "    print (\"Знак зодиака: Стрелец\")\n",
    "\n",
    "elif (date >= 22 and date <= 31 and month == 'Декабрь') or (date >= 1 and date <= 20 and month == 'Январь'):\n",
    "    print (\"Знак зодиака: Козерог\")\n",
    "\n",
    "elif (date >= 21 and date <= 31 and month == 'Январь') or (date >= 1 and date <= 18 and month == 'Февраль'):\n",
    "    print (\"Знак зодиака: Водолей\")\n",
    "\n",
    "elif (date >= 19 and date <= 29 and month == 'Февраль') or (date >= 1 and date <= 20 and month == 'Март'):\n",
    "    print (\"Знак зодиака: Рыбы\")"
   ]
  },
  {
   "cell_type": "markdown",
   "metadata": {},
   "source": [
    "## Задание 4\n",
    "Вам нужно написать программу для подбора упаковок по размерам товара. Размеры (ширина, длина, высота) хранятся в переменных (в сантиметрах):\n",
    "\n",
    "Используйте следующие правила:\n",
    "\n",
    "* если каждое из трех измерений менее 15 сантиметров, то выведите на экран \"Коробка №1\";\n",
    "* если хотя бы одно из измерений больше 15 сантиметров, но менее 50 сантиметров, то выводите \"Коробка №2\";\n",
    "* если длина товара больше 2 метров, то выводите \"Упаковка для лыж\";\n",
    "* во всех остальных случаях выводите \"Стандартная коробка №3\"."
   ]
  },
  {
   "cell_type": "code",
   "execution_count": null,
   "metadata": {
    "scrolled": true
   },
   "outputs": [],
   "source": [
    "a = input('Введите ширину в см: ')\n",
    "b = input('Введите длину в см: ')\n",
    "c = input('Введите высоту в см: ')\n",
    "\n",
    "while True:\n",
    "    if (a.isnumeric() and b.isnumeric() and c.isnumeric()):\n",
    "        a = int(a)\n",
    "        b = int(b)\n",
    "        c = int(c)\n",
    "        break    \n",
    "\n",
    "if (a > 200 or b > 200 or c > 200):\n",
    "    print('Упаковка для лыж')\n",
    "\n",
    "elif (a <= 15 and b <= 15 and c <= 15):\n",
    "    print('Коробка №1')\n",
    "\n",
    "elif (15 < a <= 50 or 15 < b <= 50  or 15 < c <= 50):\n",
    "    print('Коробка №2')\n",
    "\n",
    "else:\n",
    "    print('Стандартная коробка №3')"
   ]
  },
  {
   "cell_type": "markdown",
   "metadata": {},
   "source": [
    "## Задание 6 (необязательное)\n",
    "Напишите программу, которая сможет вычислять площади трех фигур (круг, треугольник и прямоугольник). Тип фигуры запрашиваем через пользовательский ввод, после чего делаем запрос характеристик фигуры:\n",
    "\n",
    "* если пользователь выбрал круг, запрашиваем его радиус,\n",
    "* если треугольник – длины трех его сторон;\n",
    "* если прямоугольник – длины двух его сторон."
   ]
  },
  {
   "cell_type": "code",
   "execution_count": null,
   "metadata": {},
   "outputs": [],
   "source": [
    "print (\"1-прямоугольник, 2-треугольник, 3-круг\")\n",
    "figure = input (\"Выберите фигуру: \")\n",
    "\n",
    "if figure == '1':\n",
    "    print (\"Длины сторон прямоугольника:\")\n",
    "    a = float(input(\"a = \"))\n",
    "    b = float(input(\"b = \"))\n",
    "    print(\"Площадь: %.2f\" % (a * b))\n",
    "\n",
    "elif figure == '2':\n",
    "    print (\"Длины сторон треугольника:\")\n",
    "    a = float(input(\"a = \"))\n",
    "    b = float(input(\"b = \"))\n",
    "    c = float(input(\"c = \"))\n",
    "    p = (a + b + c) / 2\n",
    "    from math import sqrt\n",
    "    s = sqrt(p * (p - a) * (p - b) * (p - c))\n",
    "    print (\"Площадь: %.2f\" % s)\n",
    "\n",
    "elif figure == '3':\n",
    "    r = float(input(\"Радиус круга R = \"))\n",
    "    from math import pi\n",
    "    print (\"Площадь: %.2f\" % (pi * r ** 2))\n",
    "\n",
    "else:\n",
    "    print (\"Ошибка ввода\")"
   ]
  }
 ],
 "metadata": {
  "kernelspec": {
   "display_name": "Python 3",
   "language": "python",
   "name": "python3"
  },
  "language_info": {
   "codemirror_mode": {
    "name": "ipython",
    "version": 3
   },
   "file_extension": ".py",
   "mimetype": "text/x-python",
   "name": "python",
   "nbconvert_exporter": "python",
   "pygments_lexer": "ipython3",
   "version": "3.8.5"
  }
 },
 "nbformat": 4,
 "nbformat_minor": 4
}
