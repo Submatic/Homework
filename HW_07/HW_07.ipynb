{
 "cells": [
  {
   "cell_type": "markdown",
   "metadata": {},
   "source": [
    "# Домашнее задание к лекции «Понятие класса»"
   ]
  },
  {
   "cell_type": "markdown",
   "metadata": {},
   "source": [
    "## Задание 1\n",
    "Напишите функцию, которая возвращает название валюты (поле ‘Name’) с максимальным значением курса с помощью сервиса https://www.cbr-xml-daily.ru/daily_json.js"
   ]
  },
  {
   "cell_type": "code",
   "execution_count": null,
   "metadata": {},
   "outputs": [],
   "source": [
    "import requests"
   ]
  },
  {
   "cell_type": "code",
   "execution_count": null,
   "metadata": {},
   "outputs": [],
   "source": [
    "def get_max_currency():\n",
    "    '''\n",
    "    Получить название валюты с максимальным значением курса\n",
    "    '''\n",
    "    req = requests.get('https://www.cbr-xml-daily.ru/daily_json.js')\n",
    "    currency_list = req.json()['Valute']\n",
    "    max_currency_name, max_currency_value = '', 0\n",
    "    for currency in currency_list:\n",
    "        if currency_list[currency]['Value'] >= max_currency_value:\n",
    "            max_currency_value = currency_list[currency]['Value']\n",
    "            max_currency_name = currency_list[currency]['Name'] \n",
    "    print('Валюта {} имеет максимальное значение курса : {}'.format(max_currency_name, max_currency_value))"
   ]
  },
  {
   "cell_type": "code",
   "execution_count": null,
   "metadata": {},
   "outputs": [],
   "source": [
    "get_max_currency()"
   ]
  },
  {
   "cell_type": "markdown",
   "metadata": {},
   "source": [
    "## Задание 2\n",
    "Добавьте в класс Rate параметр diff (со значениями True или False), который в случае значения True в методах курсов валют (eur, usd итд) будет возвращать не курс валюты, а изменение по сравнению в прошлым значением. Считайте, self.diff будет принимать значение True только при возврате значения курса. При отображении всей информации о валюте он не используется."
   ]
  },
  {
   "cell_type": "code",
   "execution_count": null,
   "metadata": {},
   "outputs": [],
   "source": [
    "class Rate:\n",
    "    def __init__(self, format_='value', diff=False):\n",
    "        self.format_ = format_\n",
    "        self.diff = diff\n",
    "    \n",
    "    def exchange_rates(self):\n",
    "        \"\"\"\n",
    "        Возвращает ответ сервиса с информацией о валютах в виде:\n",
    "        \n",
    "            {'AUD': {'ID': 'R01010',\n",
    "            'NumCode': '036',\n",
    "            'CharCode': 'AUD',\n",
    "            'Nominal': 1,\n",
    "            'Name': 'Австралийский доллар',\n",
    "            'Value': 58.2249,\n",
    "            'Previous': 57.7275},\n",
    "            ...\n",
    "        \"\"\"\n",
    "        req = requests.get('https://www.cbr-xml-daily.ru/daily_json.js')\n",
    "        return req.json()['Valute']\n",
    "    \n",
    "    def make_format(self, currency):\n",
    "        \"\"\"\n",
    "        Возвращает информацию о валюте currency в двух вариантах:\n",
    "        - полная информация о валюте при self.format_ = 'full':\n",
    "        Rate('full').make_format('EUR')\n",
    "        {\n",
    "        'ID': 'R01239',\n",
    "        'NumCode': '978',\n",
    "        'CharCode': 'EUR',\n",
    "        'Nominal': 1,\n",
    "        'Name': 'Евро',\n",
    "        'Value': 89.6604,\n",
    "        'Previous': 89.5427}\n",
    "        }\n",
    "        \n",
    "        Rate('value').make_format('EUR')\n",
    "        89.6604\n",
    "        \"\"\"\n",
    "        response = self.exchange_rates()\n",
    "        \n",
    "        if currency in response:\n",
    "            \n",
    "            if self.diff:\n",
    "                return response[currency]['Value'] - response[currency]['Previous']\n",
    "            \n",
    "            if self.format_ == 'full':\n",
    "                return response[currency]\n",
    "            \n",
    "            if self.format_ == 'value':\n",
    "                return response[currency]['Value']\n",
    "        \n",
    "        return 'Error'\n",
    "    \n",
    "    def eur(self):\n",
    "        \"\"\"Возвращает курс евро на сегодня в формате self.format_\"\"\"\n",
    "        return self.make_format('EUR')\n",
    "    \n",
    "    def usd(self):\n",
    "        \"\"\"Возвращает курс доллара на сегодня в формате self.format_\"\"\"\n",
    "        return self.make_format('USD')"
   ]
  },
  {
   "cell_type": "code",
   "execution_count": null,
   "metadata": {},
   "outputs": [],
   "source": [
    "req = Rate(format_='value', diff = True)\n",
    "req.make_format('EUR')"
   ]
  },
  {
   "cell_type": "code",
   "execution_count": null,
   "metadata": {},
   "outputs": [],
   "source": [
    "req = Rate(format_='value', diff = False)\n",
    "req.make_format('EUR')"
   ]
  },
  {
   "cell_type": "code",
   "execution_count": null,
   "metadata": {},
   "outputs": [],
   "source": [
    "Rate('full').make_format('EUR')"
   ]
  },
  {
   "cell_type": "markdown",
   "metadata": {},
   "source": [
    "## Задание 3\n",
    "Напишите класс Designer, который учитывает количество международных премий. Подсказки в коде занятия в разделе “Домашнее задание задача 3”.\n",
    "\n",
    "Комментарий по классу Designer такой:\n",
    "Напишите класс Designer, который учитывает количество международных премий для дизайнеров (из презентации: “Повышение на 1 грейд за каждые 7 баллов. Получение международной премии – это +2 балла”). Считайте, что при выходе на работу сотрудник уже имеет две премии и их количество не меняется со стажем (конечно если хотите это можно вручную менять).\n",
    "\n",
    "Класс Designer пишется по аналогии с классом Developer из материалов занятия. Комментарий про его условия Вика написала выше: “Повышение на 1 грейд за каждые 7 баллов. Получение международной премии – это +2 балла”"
   ]
  },
  {
   "cell_type": "code",
   "execution_count": 1,
   "metadata": {},
   "outputs": [],
   "source": [
    "class Employee:\n",
    "    def __init__(self, name, seniority):\n",
    "        self.name = name\n",
    "        self.seniority = seniority\n",
    "        self.grade = 1\n",
    "    \n",
    "    def grade_up(self):\n",
    "        self.grade += 1\n",
    "    \n",
    "    def print_grade(self):\n",
    "        print(self.name, self.grade)\n",
    "    \n",
    "    def check_for_upgrade(self):\n",
    "        pass"
   ]
  },
  {
   "cell_type": "code",
   "execution_count": 2,
   "metadata": {},
   "outputs": [],
   "source": [
    "class Designer(Employee):\n",
    "    def __init__(self, name, seniority):\n",
    "        super().__init__(name, seniority)\n",
    "    \n",
    "    def check_for_upgrade(self):\n",
    "        self.seniority += 1\n",
    "        \n",
    "        if self.seniority % 7 == 0:\n",
    "            self.grade_up()\n",
    "        \n",
    "        return self.print_grade()"
   ]
  },
  {
   "cell_type": "code",
   "execution_count": 3,
   "metadata": {},
   "outputs": [],
   "source": [
    "Ivan = Designer('Ivan', seniority=1)"
   ]
  },
  {
   "cell_type": "code",
   "execution_count": 4,
   "metadata": {},
   "outputs": [
    {
     "name": "stdout",
     "output_type": "stream",
     "text": [
      "Ivan 1\n",
      "Ivan 1\n",
      "Ivan 1\n",
      "Ivan 1\n",
      "Ivan 1\n",
      "Ivan 2\n",
      "Ivan 2\n",
      "Ivan 2\n",
      "Ivan 2\n",
      "Ivan 2\n",
      "Ivan 2\n",
      "Ivan 2\n",
      "Ivan 3\n",
      "Ivan 3\n",
      "Ivan 3\n",
      "Ivan 3\n",
      "Ivan 3\n",
      "Ivan 3\n",
      "Ivan 3\n",
      "Ivan 4\n"
     ]
    }
   ],
   "source": [
    "for i in range(20):\n",
    "    Ivan.check_for_upgrade()"
   ]
  }
 ],
 "metadata": {
  "kernelspec": {
   "display_name": "Python 3",
   "language": "python",
   "name": "python3"
  },
  "language_info": {
   "codemirror_mode": {
    "name": "ipython",
    "version": 3
   },
   "file_extension": ".py",
   "mimetype": "text/x-python",
   "name": "python",
   "nbconvert_exporter": "python",
   "pygments_lexer": "ipython3",
   "version": "3.8.5"
  }
 },
 "nbformat": 4,
 "nbformat_minor": 4
}
