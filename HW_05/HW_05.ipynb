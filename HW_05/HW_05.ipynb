{
 "cells": [
  {
   "cell_type": "markdown",
   "metadata": {},
   "source": [
    "## Задание 1\n",
    "Переведите содержимое файла purchase_log.txt в словарь purchases вида:\n",
    "\n",
    "{‘1840e0b9d4’: ‘Продукты’, …}"
   ]
  },
  {
   "cell_type": "code",
   "execution_count": 1,
   "metadata": {},
   "outputs": [],
   "source": [
    "import json\n",
    "purchases = dict()\n",
    "with open('purchase_log.txt', encoding = 'UTF-8') as file:\n",
    "    for i, line in enumerate(file):\n",
    "        purchases.update({json.loads(line).get('user_id') : json.loads(line).get('category')})"
   ]
  },
  {
   "cell_type": "code",
   "execution_count": 2,
   "metadata": {
    "scrolled": true
   },
   "outputs": [
    {
     "name": "stdout",
     "output_type": "stream",
     "text": [
      "('user_id', 'category')\n",
      "('1840e0b9d4', 'Продукты')\n",
      "('4e4f90fcfb', 'Электроника')\n",
      "('afea8d72fc', 'Электроника')\n",
      "('373a6055fe', 'Бытовая техника')\n",
      "('9b2ab046f3', 'Электроника')\n",
      "('9f39d307c3', 'Электроника')\n",
      "('44edeffc91', 'Продукты')\n",
      "('704474fa2d', 'Продукты')\n",
      "('1de31be403', 'Бытовая техника')\n",
      "('b71f36a5e4', 'Продукты')\n",
      "('79843a685a', 'Продукты')\n"
     ]
    }
   ],
   "source": [
    "for i, item in enumerate(purchases.items()):\n",
    "    print(item)\n",
    "    if i > 10:\n",
    "        break"
   ]
  },
  {
   "cell_type": "markdown",
   "metadata": {},
   "source": [
    "## Задание 2\n",
    "Для каждого user_id в файле visit_log.csv определите третий столбец с категорией покупки (если покупка была, сам файл visit_log.csv изменять не надо). Запишите в файл funnel.csv визиты из файла visit_log.csv, в которых были покупки с указанием категории.\n",
    "\n",
    "Учтите условия на данные: содержимое purchase_log.txt помещается в оперативную память компьютера содержимое visit_log.csv - нет; используйте только построчную обработку этого файла"
   ]
  },
  {
   "cell_type": "code",
   "execution_count": 3,
   "metadata": {},
   "outputs": [],
   "source": [
    "with open('visit_log.csv', 'r', encoding = 'UTF-8') as file, open('funnel.csv', 'w', encoding = 'UTF-8') as new_file:\n",
    "        for line in file:\n",
    "            line = line.strip().split(',')\n",
    "            if purchases.get(line[0]) != None:\n",
    "                line.append(purchases.get(line[0]))\n",
    "                new_file.write(f'{line[0]}, {purchases.get(line[0])}\\n')"
   ]
  },
  {
   "cell_type": "code",
   "execution_count": 6,
   "metadata": {},
   "outputs": [
    {
     "name": "stdout",
     "output_type": "stream",
     "text": [
      "['user_id, category\\n',\n",
      " '1840e0b9d4, Продукты\\n',\n",
      " '4e4f90fcfb, Электроника\\n',\n",
      " 'afea8d72fc, Электроника\\n',\n",
      " '2824221f38, Продукты\\n',\n",
      " '373a6055fe, Бытовая техника\\n',\n",
      " '9b2ab046f3, Электроника\\n',\n",
      " '9f39d307c3, Электроника\\n',\n",
      " '44edeffc91, Продукты\\n',\n",
      " '704474fa2d, Продукты\\n']\n"
     ]
    }
   ],
   "source": [
    "from pprint import pprint\n",
    "with open('funnel.csv', 'r', encoding = 'UTF-8') as file:\n",
    "    pprint([next(file) for x in range(10)])"
   ]
  },
  {
   "cell_type": "code",
   "execution_count": 7,
   "metadata": {},
   "outputs": [],
   "source": [
    "file.close()\n",
    "new_file.close()"
   ]
  }
 ],
 "metadata": {
  "kernelspec": {
   "display_name": "Python 3",
   "language": "python",
   "name": "python3"
  },
  "language_info": {
   "codemirror_mode": {
    "name": "ipython",
    "version": 3
   },
   "file_extension": ".py",
   "mimetype": "text/x-python",
   "name": "python",
   "nbconvert_exporter": "python",
   "pygments_lexer": "ipython3",
   "version": "3.8.5"
  }
 },
 "nbformat": 4,
 "nbformat_minor": 4
}
